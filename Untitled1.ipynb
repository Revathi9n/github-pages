{
  "nbformat": 4,
  "nbformat_minor": 0,
  "metadata": {
    "colab": {
      "provenance": [],
      "authorship_tag": "ABX9TyNaMxVcWbcDonSpvx5+J/Ws",
      "include_colab_link": true
    },
    "kernelspec": {
      "name": "python3",
      "display_name": "Python 3"
    },
    "language_info": {
      "name": "python"
    }
  },
  "cells": [
    {
      "cell_type": "markdown",
      "metadata": {
        "id": "view-in-github",
        "colab_type": "text"
      },
      "source": [
        "<a href=\"https://colab.research.google.com/github/Revathi9n/github-pages/blob/main/Untitled1.ipynb\" target=\"_parent\"><img src=\"https://colab.research.google.com/assets/colab-badge.svg\" alt=\"Open In Colab\"/></a>"
      ]
    },
    {
      "cell_type": "code",
      "execution_count": null,
      "metadata": {
        "id": "lBvIqmxjLjE1"
      },
      "outputs": [],
      "source": [
        "x = \"Machine Learning\"\n"
      ]
    },
    {
      "cell_type": "code",
      "source": [
        "#Print MALE\n",
        "x[ :2].upper()+x[8:10].upper()"
      ],
      "metadata": {
        "id": "3aBZWh6mFc0G",
        "colab": {
          "base_uri": "https://localhost:8080/",
          "height": 35
        },
        "outputId": "77b0ca1d-b568-4982-aaec-d69ead4f7cb9"
      },
      "execution_count": null,
      "outputs": [
        {
          "output_type": "execute_result",
          "data": {
            "text/plain": [
              "'MALE'"
            ],
            "application/vnd.google.colaboratory.intrinsic+json": {
              "type": "string"
            }
          },
          "metadata": {},
          "execution_count": 4
        }
      ]
    },
    {
      "cell_type": "code",
      "source": [
        "#print MANEEar\n",
        "x[ :2].upper()+x[5:7].upper()+x[9:12]"
      ],
      "metadata": {
        "colab": {
          "base_uri": "https://localhost:8080/",
          "height": 35
        },
        "id": "RT8VwojQwj61",
        "outputId": "9beb6af8-e4e0-4a5a-9265-3c2fa0aa2abb"
      },
      "execution_count": null,
      "outputs": [
        {
          "output_type": "execute_result",
          "data": {
            "text/plain": [
              "'MANEear'"
            ],
            "application/vnd.google.colaboratory.intrinsic+json": {
              "type": "string"
            }
          },
          "metadata": {},
          "execution_count": 5
        }
      ]
    },
    {
      "cell_type": "code",
      "source": [
        "x = ['data',9,'2024.23',3+4j,[10,20,30]]"
      ],
      "metadata": {
        "id": "e2n08REfyCKe"
      },
      "execution_count": null,
      "outputs": []
    },
    {
      "cell_type": "code",
      "source": [
        "x[0][0:2]"
      ],
      "metadata": {
        "colab": {
          "base_uri": "https://localhost:8080/",
          "height": 35
        },
        "id": "kAqz8L_Qzthh",
        "outputId": "70660c22-6655-4757-c1f4-672bbd34c613"
      },
      "execution_count": null,
      "outputs": [
        {
          "output_type": "execute_result",
          "data": {
            "text/plain": [
              "'da'"
            ],
            "application/vnd.google.colaboratory.intrinsic+json": {
              "type": "string"
            }
          },
          "metadata": {},
          "execution_count": 7
        }
      ]
    },
    {
      "cell_type": "code",
      "source": [
        "x[-5][-2: ]"
      ],
      "metadata": {
        "colab": {
          "base_uri": "https://localhost:8080/",
          "height": 35
        },
        "id": "uPIzzI3Cz038",
        "outputId": "c69399a8-e8fe-469f-a325-ec7fb10f9d52"
      },
      "execution_count": null,
      "outputs": [
        {
          "output_type": "execute_result",
          "data": {
            "text/plain": [
              "'ta'"
            ],
            "application/vnd.google.colaboratory.intrinsic+json": {
              "type": "string"
            }
          },
          "metadata": {},
          "execution_count": 8
        }
      ]
    },
    {
      "cell_type": "code",
      "source": [
        "print(x[2][4: ])"
      ],
      "metadata": {
        "colab": {
          "base_uri": "https://localhost:8080/"
        },
        "id": "RijJp2p9z51R",
        "outputId": "03c2ecdf-10f5-4b0e-9348-f1dbecae0203"
      },
      "execution_count": null,
      "outputs": [
        {
          "output_type": "stream",
          "name": "stdout",
          "text": [
            ".23\n"
          ]
        }
      ]
    },
    {
      "cell_type": "code",
      "source": [
        "x[-3][-3:-1]"
      ],
      "metadata": {
        "colab": {
          "base_uri": "https://localhost:8080/",
          "height": 35
        },
        "id": "MxDWira-0Vmw",
        "outputId": "c294f294-db15-4b10-aaa9-4bbbdb81a41e"
      },
      "execution_count": null,
      "outputs": [
        {
          "output_type": "execute_result",
          "data": {
            "text/plain": [
              "'.2'"
            ],
            "application/vnd.google.colaboratory.intrinsic+json": {
              "type": "string"
            }
          },
          "metadata": {},
          "execution_count": 20
        }
      ]
    },
    {
      "cell_type": "code",
      "source": [
        "topics=[\n",
        "    ['Math',['Algebra','Calculus','Geometry']],\n",
        "    ['Science',['Physics','Chemistry','Biology']],\n",
        "    ['Technology',['Programming','Networking','AI']],\n",
        "    ['History',['Ancient','Medieval','Modern']],\n",
        "    ['Art',['Painting','Sculpture','Architecture']]\n",
        "\n",
        "]"
      ],
      "metadata": {
        "id": "s_Sbc7C21ftz"
      },
      "execution_count": null,
      "outputs": []
    },
    {
      "cell_type": "code",
      "source": [
        "#print Modern Architceture\n",
        "topics[3][1][-1]+\" \"+topics[4][1][2]"
      ],
      "metadata": {
        "colab": {
          "base_uri": "https://localhost:8080/",
          "height": 35
        },
        "id": "LD9qSkqv26L5",
        "outputId": "28462121-f96e-484a-d4de-923aab0e0271"
      },
      "execution_count": null,
      "outputs": [
        {
          "output_type": "execute_result",
          "data": {
            "text/plain": [
              "'Modern Architecture'"
            ],
            "application/vnd.google.colaboratory.intrinsic+json": {
              "type": "string"
            }
          },
          "metadata": {},
          "execution_count": 23
        }
      ]
    },
    {
      "cell_type": "code",
      "source": [
        "#print GEO, BIO,CHEM\n",
        "topics[0][1][2][0:3].upper()+\",\"+topics[1][1][2][0:3].upper()+\",\"+topics[1][1][1][0:4].upper()\n",
        "topics[2][1][2].upper()\n"
      ],
      "metadata": {
        "colab": {
          "base_uri": "https://localhost:8080/",
          "height": 35
        },
        "id": "I9y7i5nk3Hf3",
        "outputId": "8883badf-6c0e-4c8f-bd06-943f1165915a"
      },
      "execution_count": null,
      "outputs": [
        {
          "output_type": "execute_result",
          "data": {
            "text/plain": [
              "'AI'"
            ],
            "application/vnd.google.colaboratory.intrinsic+json": {
              "type": "string"
            }
          },
          "metadata": {},
          "execution_count": 26
        }
      ]
    },
    {
      "cell_type": "code",
      "source": [
        "#Tuple\n",
        "Weekdays=('Monday','Tuesday','Wednesday','Thursday','Friday','Saturday','Sunday')"
      ],
      "metadata": {
        "id": "5Jurm5ri3c1V"
      },
      "execution_count": null,
      "outputs": []
    },
    {
      "cell_type": "code",
      "source": [
        "Weekdays[0:3]"
      ],
      "metadata": {
        "colab": {
          "base_uri": "https://localhost:8080/"
        },
        "id": "tGQ9EbkQ5Xk3",
        "outputId": "3b0f2d6e-0e37-4c7b-b06b-881da04ab14e"
      },
      "execution_count": null,
      "outputs": [
        {
          "output_type": "execute_result",
          "data": {
            "text/plain": [
              "('Monday', 'Tuesday', 'Wednesday')"
            ]
          },
          "metadata": {},
          "execution_count": 29
        }
      ]
    },
    {
      "cell_type": "code",
      "source": [
        "Weekdays[1:5]"
      ],
      "metadata": {
        "colab": {
          "base_uri": "https://localhost:8080/"
        },
        "id": "LDfkGeRs5bQD",
        "outputId": "d46d0965-8827-4d85-cdbd-ad70c0fc697c"
      },
      "execution_count": null,
      "outputs": [
        {
          "output_type": "execute_result",
          "data": {
            "text/plain": [
              "('Tuesday', 'Wednesday', 'Thursday', 'Friday')"
            ]
          },
          "metadata": {},
          "execution_count": 30
        }
      ]
    },
    {
      "cell_type": "code",
      "source": [
        "x=5\n",
        "y=2\n",
        "print(x-y)"
      ],
      "metadata": {
        "id": "TV3BNM6E5jnB",
        "colab": {
          "base_uri": "https://localhost:8080/"
        },
        "outputId": "2eac27dc-6e33-4612-fed2-f530bb1f68da"
      },
      "execution_count": null,
      "outputs": [
        {
          "output_type": "stream",
          "name": "stdout",
          "text": [
            "3\n"
          ]
        }
      ]
    },
    {
      "cell_type": "code",
      "source": [
        "print(105+5)"
      ],
      "metadata": {
        "colab": {
          "base_uri": "https://localhost:8080/"
        },
        "id": "5D-jbk7z3IEG",
        "outputId": "808d1761-7807-4ab3-ea6a-b1663cf83048"
      },
      "execution_count": null,
      "outputs": [
        {
          "output_type": "stream",
          "name": "stdout",
          "text": [
            "110\n"
          ]
        }
      ]
    },
    {
      "cell_type": "code",
      "source": [
        "#Arithmetic Operators\n",
        "x=6\n",
        "y=5\n",
        "addition = x + y\n",
        "print(f\"addition:{x}+{y}={addition}\")\n",
        "#print(addition)"
      ],
      "metadata": {
        "colab": {
          "base_uri": "https://localhost:8080/"
        },
        "id": "eRO6pjF73VPM",
        "outputId": "d95831ac-d958-4b42-aa2b-fd53f0bab45c"
      },
      "execution_count": null,
      "outputs": [
        {
          "output_type": "stream",
          "name": "stdout",
          "text": [
            "addition:6+5=11\n"
          ]
        }
      ]
    },
    {
      "cell_type": "code",
      "source": [
        "x=5\n",
        "y=4\n",
        "print(x-y)"
      ],
      "metadata": {
        "colab": {
          "base_uri": "https://localhost:8080/"
        },
        "id": "zmG_SOpM31S9",
        "outputId": "25004d48-8e6e-49e8-bdd6-096b58edfdf9"
      },
      "execution_count": null,
      "outputs": [
        {
          "output_type": "stream",
          "name": "stdout",
          "text": [
            "1\n"
          ]
        }
      ]
    },
    {
      "cell_type": "code",
      "source": [
        "subtraction = x-y\n",
        "print(f\"Subtraction:{x}-{y}={subtraction}\")"
      ],
      "metadata": {
        "colab": {
          "base_uri": "https://localhost:8080/"
        },
        "id": "f5wMAPPR4xSJ",
        "outputId": "2d730ec8-baaf-40c9-c7e5-25b85e0546c0"
      },
      "execution_count": null,
      "outputs": [
        {
          "output_type": "stream",
          "name": "stdout",
          "text": [
            "Subtraction:5-4=1\n"
          ]
        }
      ]
    },
    {
      "cell_type": "code",
      "source": [
        "multiplication= x*y\n",
        "print(f\"Muliplication:{x}*{y}={multiplication}\")"
      ],
      "metadata": {
        "colab": {
          "base_uri": "https://localhost:8080/"
        },
        "id": "4xDHPMzy5MHo",
        "outputId": "0061f092-c0cc-4733-9ace-dcb8837cd8f2"
      },
      "execution_count": null,
      "outputs": [
        {
          "output_type": "stream",
          "name": "stdout",
          "text": [
            "Muliplication:5*4=20\n"
          ]
        }
      ]
    },
    {
      "cell_type": "code",
      "source": [
        "x=15\n",
        "y=5\n",
        "division =x/y\n",
        "print(division)\n",
        "print(f\"Division:{x}/{y}={division}\")"
      ],
      "metadata": {
        "colab": {
          "base_uri": "https://localhost:8080/"
        },
        "id": "bAP01dpt5pqo",
        "outputId": "84a6fbee-1352-490e-b8d5-57122b5d789c"
      },
      "execution_count": null,
      "outputs": [
        {
          "output_type": "stream",
          "name": "stdout",
          "text": [
            "3.0\n",
            "Division:15/5=3.0\n"
          ]
        }
      ]
    },
    {
      "cell_type": "code",
      "source": [
        "a=6\n",
        "b=3\n",
        "expn =a**b\n",
        "print(expn)\n"
      ],
      "metadata": {
        "colab": {
          "base_uri": "https://localhost:8080/"
        },
        "id": "90X4a5wR6V6V",
        "outputId": "a5c16255-cfee-486c-9586-9b0688f5a5bf"
      },
      "execution_count": null,
      "outputs": [
        {
          "output_type": "stream",
          "name": "stdout",
          "text": [
            "216\n"
          ]
        }
      ]
    },
    {
      "cell_type": "code",
      "source": [
        "a=6\n",
        "b=3\n",
        "expn =b**a\n",
        "print(expn)"
      ],
      "metadata": {
        "colab": {
          "base_uri": "https://localhost:8080/"
        },
        "id": "H7wtENq_6llg",
        "outputId": "68d3de46-fdec-4cc7-8efe-265a13815b1d"
      },
      "execution_count": null,
      "outputs": [
        {
          "output_type": "stream",
          "name": "stdout",
          "text": [
            "729\n"
          ]
        }
      ]
    },
    {
      "cell_type": "code",
      "source": [
        "x=13\n",
        "y=4\n",
        "division = x/y\n",
        "floor_division=x//y\n",
        "print(division)\n",
        "print(f\"floor division:{x}//{y}={floor_division}\")"
      ],
      "metadata": {
        "colab": {
          "base_uri": "https://localhost:8080/"
        },
        "id": "XAlrTuyV6t5y",
        "outputId": "da868505-6f0c-4c2a-aeab-a21c263afb85"
      },
      "execution_count": null,
      "outputs": [
        {
          "output_type": "stream",
          "name": "stdout",
          "text": [
            "3.25\n",
            "floor division:13//4=3\n"
          ]
        }
      ]
    },
    {
      "cell_type": "code",
      "source": [
        "a=14\n",
        "b=5\n",
        "modulus=a%b\n",
        "print(modulus)"
      ],
      "metadata": {
        "colab": {
          "base_uri": "https://localhost:8080/"
        },
        "id": "DtFQMr_Y7A-o",
        "outputId": "9c8fb93e-d9b1-4a1b-866f-47b05dd61b33"
      },
      "execution_count": null,
      "outputs": [
        {
          "output_type": "stream",
          "name": "stdout",
          "text": [
            "4\n"
          ]
        }
      ]
    },
    {
      "cell_type": "code",
      "source": [
        "a=14\n",
        "b=5\n",
        "print(f\"addition:{x}+{y}={addition}\")\n",
        "print(f\"subraction:{x}-{y}={subtraction}\")\n",
        "print(f\"multiplication:{x}*{y}={multiplication}\")\n",
        "print(f\"division:{x}/{y}={division}\")\n",
        "print(f\"floor division:{x}//{y}={floor_division}\")\n",
        "print(f\"modulus:{x}%{y}={modulus}\")\n",
        "print(f\"exonential:{x}**{y}={expn}\")"
      ],
      "metadata": {
        "colab": {
          "base_uri": "https://localhost:8080/"
        },
        "id": "ufCj-ReL8ThS",
        "outputId": "4b78cedd-d698-4ab7-dc66-86644678f473"
      },
      "execution_count": null,
      "outputs": [
        {
          "output_type": "stream",
          "name": "stdout",
          "text": [
            "addition:13+4=11\n",
            "subraction:13-4=1\n",
            "multiplication:13*4=20\n",
            "division:13/4=3.25\n",
            "floor division:13//4=3\n",
            "modulus:13%4=4\n",
            "exonential:13**4=729\n"
          ]
        }
      ]
    },
    {
      "cell_type": "code",
      "source": [
        "# = assignment;\n",
        "x=5\n",
        "\n",
        "x=10\n",
        "print(x)"
      ],
      "metadata": {
        "colab": {
          "base_uri": "https://localhost:8080/"
        },
        "id": "MnDcEl8K8zmg",
        "outputId": "bee4bd44-faee-4848-b336-dee1503bd7f0"
      },
      "execution_count": null,
      "outputs": [
        {
          "output_type": "stream",
          "name": "stdout",
          "text": [
            "10\n"
          ]
        }
      ]
    },
    {
      "cell_type": "code",
      "source": [
        "# += Addition assignment;\n",
        "x+=3\n",
        "print(x)"
      ],
      "metadata": {
        "colab": {
          "base_uri": "https://localhost:8080/"
        },
        "id": "noYMEzDv-Ssp",
        "outputId": "7bd1f6ee-8565-4dd1-d3ef-7c5def0956ec"
      },
      "execution_count": null,
      "outputs": [
        {
          "output_type": "stream",
          "name": "stdout",
          "text": [
            "13\n"
          ]
        }
      ]
    },
    {
      "cell_type": "code",
      "source": [
        "#-=subraction aggignment;\n",
        "x-=3\n",
        "print(x)"
      ],
      "metadata": {
        "colab": {
          "base_uri": "https://localhost:8080/"
        },
        "id": "tS2_3kE8-g7_",
        "outputId": "d72ea717-bef6-4e09-b663-f4c3b3bdc024"
      },
      "execution_count": null,
      "outputs": [
        {
          "output_type": "stream",
          "name": "stdout",
          "text": [
            "10\n"
          ]
        }
      ]
    },
    {
      "cell_type": "code",
      "source": [
        "#*= muliplication assignment;\n",
        "x*=3\n",
        "print(x)"
      ],
      "metadata": {
        "colab": {
          "base_uri": "https://localhost:8080/"
        },
        "id": "imvZTxTm-r4a",
        "outputId": "20818541-3138-440a-ebae-f668f75fd242"
      },
      "execution_count": null,
      "outputs": [
        {
          "output_type": "stream",
          "name": "stdout",
          "text": [
            "30\n"
          ]
        }
      ]
    },
    {
      "cell_type": "code",
      "source": [
        "#/= division assignment;\n",
        "x/=3\n",
        "print(x)"
      ],
      "metadata": {
        "colab": {
          "base_uri": "https://localhost:8080/"
        },
        "id": "WfiV3sOh-2fD",
        "outputId": "70d5735e-302c-459b-868b-e83f110067b8"
      },
      "execution_count": null,
      "outputs": [
        {
          "output_type": "stream",
          "name": "stdout",
          "text": [
            "10.0\n"
          ]
        }
      ]
    },
    {
      "cell_type": "code",
      "source": [
        "#%= modulus assignment;\n",
        "x%=3\n",
        "print(x)"
      ],
      "metadata": {
        "colab": {
          "base_uri": "https://localhost:8080/"
        },
        "id": "3nI_e4WM-9Zq",
        "outputId": "d2254cf7-ec2d-492d-820a-c6a3b9fecc53"
      },
      "execution_count": null,
      "outputs": [
        {
          "output_type": "stream",
          "name": "stdout",
          "text": [
            "1.0\n"
          ]
        }
      ]
    },
    {
      "cell_type": "code",
      "source": [
        "#floor division assignment;\n",
        "x//=3\n",
        "print(x)"
      ],
      "metadata": {
        "colab": {
          "base_uri": "https://localhost:8080/"
        },
        "id": "xwEpQEYy_KCg",
        "outputId": "1c3bebcc-e3d9-457e-b3d2-f67909256bf6"
      },
      "execution_count": null,
      "outputs": [
        {
          "output_type": "stream",
          "name": "stdout",
          "text": [
            "0.0\n"
          ]
        }
      ]
    },
    {
      "cell_type": "code",
      "source": [
        "#bitwise and (&) operation\n",
        "x=5\n",
        "x &=3\n",
        "print(x)\n",
        "bin(x)\n",
        "\n",
        "y=6\n",
        "y &=4\n",
        "print(y)\n",
        "bin(y)\n"
      ],
      "metadata": {
        "id": "oOzvmX_E_TWB",
        "colab": {
          "base_uri": "https://localhost:8080/",
          "height": 70
        },
        "outputId": "5e3fbbbb-8ebc-4d09-de4f-5831a94c7b84"
      },
      "execution_count": null,
      "outputs": [
        {
          "output_type": "stream",
          "name": "stdout",
          "text": [
            "1\n",
            "4\n"
          ]
        },
        {
          "output_type": "execute_result",
          "data": {
            "text/plain": [
              "'0b100'"
            ],
            "application/vnd.google.colaboratory.intrinsic+json": {
              "type": "string"
            }
          },
          "metadata": {},
          "execution_count": 1
        }
      ]
    },
    {
      "cell_type": "code",
      "source": [
        "bin(6)"
      ],
      "metadata": {
        "colab": {
          "base_uri": "https://localhost:8080/",
          "height": 35
        },
        "id": "OqW-r5Q4DATp",
        "outputId": "e86c6ece-0186-4bfb-d52f-a99a5a057c57"
      },
      "execution_count": null,
      "outputs": [
        {
          "output_type": "execute_result",
          "data": {
            "text/plain": [
              "'0b110'"
            ],
            "application/vnd.google.colaboratory.intrinsic+json": {
              "type": "string"
            }
          },
          "metadata": {},
          "execution_count": 2
        }
      ]
    },
    {
      "cell_type": "code",
      "source": [
        "bin(8)"
      ],
      "metadata": {
        "colab": {
          "base_uri": "https://localhost:8080/",
          "height": 35
        },
        "id": "PSKJ0P-9DFhr",
        "outputId": "8750b7c5-22e1-4c43-8fd6-1fe9f4a6867c"
      },
      "execution_count": null,
      "outputs": [
        {
          "output_type": "execute_result",
          "data": {
            "text/plain": [
              "'0b1000'"
            ],
            "application/vnd.google.colaboratory.intrinsic+json": {
              "type": "string"
            }
          },
          "metadata": {},
          "execution_count": 3
        }
      ]
    },
    {
      "cell_type": "code",
      "source": [
        "#bitwise OR(|) operation\n",
        "x =5  #0101\n",
        "x |=3  #0011\n",
        "print(x)#0111\n",
        "bin(x)"
      ],
      "metadata": {
        "colab": {
          "base_uri": "https://localhost:8080/",
          "height": 53
        },
        "id": "IeUhHXhsDIx2",
        "outputId": "70eb1e20-d389-4a11-ae50-3628ed765193"
      },
      "execution_count": null,
      "outputs": [
        {
          "output_type": "stream",
          "name": "stdout",
          "text": [
            "7\n"
          ]
        },
        {
          "output_type": "execute_result",
          "data": {
            "text/plain": [
              "'0b111'"
            ],
            "application/vnd.google.colaboratory.intrinsic+json": {
              "type": "string"
            }
          },
          "metadata": {},
          "execution_count": 4
        }
      ]
    },
    {
      "cell_type": "code",
      "source": [
        "a=7  #111\n",
        "a|=10 #1010\n",
        "print(a) #1111\n",
        "bin(a)\n",
        "\n",
        "a=7\n",
        "a&=10\n",
        "\n",
        "print(a)\n",
        "bin(x)"
      ],
      "metadata": {
        "colab": {
          "base_uri": "https://localhost:8080/",
          "height": 70
        },
        "id": "TMQtgxkpDyUx",
        "outputId": "62e03f3b-5abd-45b4-b3a5-53817a984263"
      },
      "execution_count": null,
      "outputs": [
        {
          "output_type": "stream",
          "name": "stdout",
          "text": [
            "15\n",
            "2\n"
          ]
        },
        {
          "output_type": "execute_result",
          "data": {
            "text/plain": [
              "'0b111'"
            ],
            "application/vnd.google.colaboratory.intrinsic+json": {
              "type": "string"
            }
          },
          "metadata": {},
          "execution_count": 6
        }
      ]
    },
    {
      "cell_type": "code",
      "source": [
        "#bitwise XOR(*) operation\n",
        "x = 5  #0101\n",
        "x ^= 3  #0011\n",
        "print(x)\n",
        "bin(x)  #0110"
      ],
      "metadata": {
        "colab": {
          "base_uri": "https://localhost:8080/",
          "height": 53
        },
        "id": "9ufLM9MvDrjh",
        "outputId": "c7d939cb-a75d-4ae6-a831-6fc5db56de8a"
      },
      "execution_count": null,
      "outputs": [
        {
          "output_type": "stream",
          "name": "stdout",
          "text": [
            "6\n"
          ]
        },
        {
          "output_type": "execute_result",
          "data": {
            "text/plain": [
              "'0b110'"
            ],
            "application/vnd.google.colaboratory.intrinsic+json": {
              "type": "string"
            }
          },
          "metadata": {},
          "execution_count": 7
        }
      ]
    },
    {
      "cell_type": "code",
      "source": [
        "a = 8\n",
        "a^=2\n",
        "print(a)\n",
        "bin(a)"
      ],
      "metadata": {
        "colab": {
          "base_uri": "https://localhost:8080/",
          "height": 53
        },
        "id": "c2MgLy9hE491",
        "outputId": "61f81709-b4cf-4ab6-e0f5-40dd37c3f54c"
      },
      "execution_count": null,
      "outputs": [
        {
          "output_type": "stream",
          "name": "stdout",
          "text": [
            "10\n"
          ]
        },
        {
          "output_type": "execute_result",
          "data": {
            "text/plain": [
              "'0b1010'"
            ],
            "application/vnd.google.colaboratory.intrinsic+json": {
              "type": "string"
            }
          },
          "metadata": {},
          "execution_count": 8
        }
      ]
    },
    {
      "cell_type": "code",
      "source": [
        "x = 8 #1000\n",
        "x>>= 2\n",
        "print()\n",
        "bin(x)"
      ],
      "metadata": {
        "id": "2aIct7LmFFZJ",
        "colab": {
          "base_uri": "https://localhost:8080/",
          "height": 53
        },
        "outputId": "d3875cf7-cbbf-4698-e853-dd4aaab81ab5"
      },
      "execution_count": null,
      "outputs": [
        {
          "output_type": "stream",
          "name": "stdout",
          "text": [
            "\n"
          ]
        },
        {
          "output_type": "execute_result",
          "data": {
            "text/plain": [
              "'0b10'"
            ],
            "application/vnd.google.colaboratory.intrinsic+json": {
              "type": "string"
            }
          },
          "metadata": {},
          "execution_count": 2
        }
      ]
    },
    {
      "cell_type": "code",
      "source": [
        "a = int('1010010' ,2)\n",
        "print(a)"
      ],
      "metadata": {
        "colab": {
          "base_uri": "https://localhost:8080/"
        },
        "id": "uFsnD2axH5CE",
        "outputId": "bca45fe9-ba33-46fd-8b01-0e8f202ba4ba"
      },
      "execution_count": null,
      "outputs": [
        {
          "output_type": "stream",
          "name": "stdout",
          "text": [
            "82\n"
          ]
        }
      ]
    },
    {
      "cell_type": "code",
      "source": [
        "b = int('1000111',2)\n",
        "print(b)"
      ],
      "metadata": {
        "colab": {
          "base_uri": "https://localhost:8080/"
        },
        "id": "iHVx6JtDJmZ6",
        "outputId": "e10ae204-773f-4325-9204-f87b7cbfaf74"
      },
      "execution_count": null,
      "outputs": [
        {
          "output_type": "stream",
          "name": "stdout",
          "text": [
            "71\n"
          ]
        }
      ]
    },
    {
      "cell_type": "code",
      "source": [
        "a=5\n",
        "b=10\n",
        "\n",
        "print(a>2)"
      ],
      "metadata": {
        "colab": {
          "base_uri": "https://localhost:8080/"
        },
        "id": "lRdmJTtyJuTU",
        "outputId": "7d7214dd-1fde-427c-fd05-0036a338b494"
      },
      "execution_count": null,
      "outputs": [
        {
          "output_type": "stream",
          "name": "stdout",
          "text": [
            "True\n"
          ]
        }
      ]
    },
    {
      "cell_type": "code",
      "source": [
        "a=89\n",
        "b=76\n",
        "h=54\n",
        "\n",
        "print(b is h)"
      ],
      "metadata": {
        "colab": {
          "base_uri": "https://localhost:8080/"
        },
        "id": "KtPQE79SRnnq",
        "outputId": "89fa07d6-7594-462e-df50-7be53e39d351"
      },
      "execution_count": null,
      "outputs": [
        {
          "output_type": "stream",
          "name": "stdout",
          "text": [
            "False\n"
          ]
        }
      ]
    },
    {
      "cell_type": "code",
      "source": [
        "Fruits =['apple,banana,cherry']\n",
        "print('banana' in Fruits)\n",
        "print('grape in fruits')"
      ],
      "metadata": {
        "colab": {
          "base_uri": "https://localhost:8080/"
        },
        "id": "-9TVjuZNRvf5",
        "outputId": "dd4cf527-6b9d-487e-c698-8c0e12820910"
      },
      "execution_count": null,
      "outputs": [
        {
          "output_type": "stream",
          "name": "stdout",
          "text": [
            "False\n",
            "grape in fruits\n"
          ]
        }
      ]
    },
    {
      "cell_type": "code",
      "source": [
        "text = \"hello world\"\n",
        "print('h' in text)\n",
        "print('H' in text)"
      ],
      "metadata": {
        "colab": {
          "base_uri": "https://localhost:8080/"
        },
        "id": "71GltIMCS0QB",
        "outputId": "f3a120fa-e41c-4f7d-f83c-ed565655e97c"
      },
      "execution_count": null,
      "outputs": [
        {
          "output_type": "stream",
          "name": "stdout",
          "text": [
            "True\n",
            "False\n"
          ]
        }
      ]
    },
    {
      "cell_type": "code",
      "source": [
        "a= 12\n",
        "b=10\n",
        "result = a^b\n",
        "result= a&b\n",
        "result=a|b\n",
        "result=~a\n",
        "result=a<<b\n",
        "result=a>>b\n",
        "result=a^b\n",
        "print(bin)\n",
        "bin(a)\n",
        "bin(b)\n",
        "print(result)"
      ],
      "metadata": {
        "id": "wWSWJDEHTBq3",
        "colab": {
          "base_uri": "https://localhost:8080/"
        },
        "outputId": "eb30387d-b9ab-4669-e924-45e0592d5649"
      },
      "execution_count": null,
      "outputs": [
        {
          "output_type": "stream",
          "name": "stdout",
          "text": [
            "<built-in function bin>\n",
            "6\n"
          ]
        }
      ]
    },
    {
      "cell_type": "code",
      "source": [
        "import math"
      ],
      "metadata": {
        "id": "WLwypK-pVwR0"
      },
      "execution_count": null,
      "outputs": []
    },
    {
      "cell_type": "code",
      "source": [
        "math.ceil(3.6)"
      ],
      "metadata": {
        "colab": {
          "base_uri": "https://localhost:8080/"
        },
        "id": "gVfRfC7YWZc4",
        "outputId": "c1bfec6f-5c85-4f91-8935-c96b4e0e465f"
      },
      "execution_count": null,
      "outputs": [
        {
          "output_type": "execute_result",
          "data": {
            "text/plain": [
              "4"
            ]
          },
          "metadata": {},
          "execution_count": 7
        }
      ]
    },
    {
      "cell_type": "code",
      "source": [
        "math.floor(2.9)"
      ],
      "metadata": {
        "colab": {
          "base_uri": "https://localhost:8080/"
        },
        "id": "LpzYihGXWg_L",
        "outputId": "69ae9471-ed38-4c65-d646-c2acd945a3fc"
      },
      "execution_count": null,
      "outputs": [
        {
          "output_type": "execute_result",
          "data": {
            "text/plain": [
              "2"
            ]
          },
          "metadata": {},
          "execution_count": 8
        }
      ]
    },
    {
      "cell_type": "code",
      "source": [
        "math.sqrt(4)"
      ],
      "metadata": {
        "colab": {
          "base_uri": "https://localhost:8080/"
        },
        "id": "xvpOarrVWp7H",
        "outputId": "2c20974f-e538-449b-912c-c0d6b6ab1a2e"
      },
      "execution_count": null,
      "outputs": [
        {
          "output_type": "execute_result",
          "data": {
            "text/plain": [
              "2.0"
            ]
          },
          "metadata": {},
          "execution_count": 9
        }
      ]
    },
    {
      "cell_type": "code",
      "source": [
        "math.pow(2,1/2)"
      ],
      "metadata": {
        "colab": {
          "base_uri": "https://localhost:8080/"
        },
        "id": "bnGmVPaGWtj3",
        "outputId": "81575fc9-8f09-45a0-cf55-365d7d52ddde"
      },
      "execution_count": null,
      "outputs": [
        {
          "output_type": "execute_result",
          "data": {
            "text/plain": [
              "1.4142135623730951"
            ]
          },
          "metadata": {},
          "execution_count": 10
        }
      ]
    },
    {
      "cell_type": "code",
      "source": [
        "math.pow(2,4)"
      ],
      "metadata": {
        "colab": {
          "base_uri": "https://localhost:8080/"
        },
        "id": "Qu9aYHzvW1Qx",
        "outputId": "aee7f3ff-6d95-4eb5-9478-828b9d4306c8"
      },
      "execution_count": null,
      "outputs": [
        {
          "output_type": "execute_result",
          "data": {
            "text/plain": [
              "16.0"
            ]
          },
          "metadata": {},
          "execution_count": 11
        }
      ]
    },
    {
      "cell_type": "code",
      "source": [
        "math.tan(2)"
      ],
      "metadata": {
        "colab": {
          "base_uri": "https://localhost:8080/"
        },
        "id": "fBc925PqW48d",
        "outputId": "9f4bbbd3-9c8c-4380-98e0-b5000d0bbd6d"
      },
      "execution_count": null,
      "outputs": [
        {
          "output_type": "execute_result",
          "data": {
            "text/plain": [
              "-2.185039863261519"
            ]
          },
          "metadata": {},
          "execution_count": 16
        }
      ]
    },
    {
      "cell_type": "code",
      "source": [
        "math.pi"
      ],
      "metadata": {
        "colab": {
          "base_uri": "https://localhost:8080/"
        },
        "id": "sW3RsD6eXifo",
        "outputId": "c48bf8d0-19fb-4f32-be6d-272b9dcd3785"
      },
      "execution_count": null,
      "outputs": [
        {
          "output_type": "execute_result",
          "data": {
            "text/plain": [
              "3.141592653589793"
            ]
          },
          "metadata": {},
          "execution_count": 13
        }
      ]
    },
    {
      "cell_type": "code",
      "source": [
        "math.trunc(2.9)"
      ],
      "metadata": {
        "colab": {
          "base_uri": "https://localhost:8080/"
        },
        "id": "-yese-EvXnrP",
        "outputId": "e226e6b0-31b3-4175-a734-383722a87b01"
      },
      "execution_count": null,
      "outputs": [
        {
          "output_type": "execute_result",
          "data": {
            "text/plain": [
              "2"
            ]
          },
          "metadata": {},
          "execution_count": 14
        }
      ]
    },
    {
      "cell_type": "code",
      "source": [
        "math.e"
      ],
      "metadata": {
        "colab": {
          "base_uri": "https://localhost:8080/"
        },
        "id": "StV2xT74Xr_s",
        "outputId": "efb2daa8-219c-461a-afc3-0ce5715a997a"
      },
      "execution_count": null,
      "outputs": [
        {
          "output_type": "execute_result",
          "data": {
            "text/plain": [
              "2.718281828459045"
            ]
          },
          "metadata": {},
          "execution_count": 15
        }
      ]
    },
    {
      "cell_type": "code",
      "source": [
        "math.fabs(-7)"
      ],
      "metadata": {
        "colab": {
          "base_uri": "https://localhost:8080/"
        },
        "id": "5mHOy1dvXuGY",
        "outputId": "8cad79b6-168b-440d-8dbf-c3a449126fcc"
      },
      "execution_count": null,
      "outputs": [
        {
          "output_type": "execute_result",
          "data": {
            "text/plain": [
              "7.0"
            ]
          },
          "metadata": {},
          "execution_count": 18
        }
      ]
    },
    {
      "cell_type": "code",
      "source": [
        "math.exp(2)"
      ],
      "metadata": {
        "colab": {
          "base_uri": "https://localhost:8080/"
        },
        "id": "OhjEm4lAYOV2",
        "outputId": "37ccd6cd-1063-4586-91a7-bc0b71c54ff5"
      },
      "execution_count": null,
      "outputs": [
        {
          "output_type": "execute_result",
          "data": {
            "text/plain": [
              "7.38905609893065"
            ]
          },
          "metadata": {},
          "execution_count": 19
        }
      ]
    },
    {
      "cell_type": "code",
      "source": [
        "#math.log(x, base)\n",
        "math.log(8,2)"
      ],
      "metadata": {
        "colab": {
          "base_uri": "https://localhost:8080/"
        },
        "id": "2VAmlOnfYfwK",
        "outputId": "4cd9beef-2742-4c95-bb4c-76baa03dbac5"
      },
      "execution_count": null,
      "outputs": [
        {
          "output_type": "execute_result",
          "data": {
            "text/plain": [
              "3.0"
            ]
          },
          "metadata": {},
          "execution_count": 20
        }
      ]
    },
    {
      "cell_type": "code",
      "source": [
        "math.factorial(5)   #5*4*3*2*1"
      ],
      "metadata": {
        "colab": {
          "base_uri": "https://localhost:8080/"
        },
        "id": "3gBFS7aTY1Bp",
        "outputId": "b5f12506-28f8-46ce-af75-85125f0bbed8"
      },
      "execution_count": null,
      "outputs": [
        {
          "output_type": "execute_result",
          "data": {
            "text/plain": [
              "120"
            ]
          },
          "metadata": {},
          "execution_count": 21
        }
      ]
    },
    {
      "cell_type": "code",
      "source": [
        "math.gcd(40,80)     #greatest common divisor"
      ],
      "metadata": {
        "colab": {
          "base_uri": "https://localhost:8080/"
        },
        "id": "ZoRcze0nY_xc",
        "outputId": "791ee9d2-f6bb-400d-cbe7-edbf949db242"
      },
      "execution_count": null,
      "outputs": [
        {
          "output_type": "execute_result",
          "data": {
            "text/plain": [
              "40"
            ]
          },
          "metadata": {},
          "execution_count": 24
        }
      ]
    },
    {
      "cell_type": "code",
      "source": [
        "#if condition\n",
        "Tomato = 15\n",
        "if Tomato <=20:\n",
        "    print(\"Bring 1Kg of tomatoes\")"
      ],
      "metadata": {
        "colab": {
          "base_uri": "https://localhost:8080/"
        },
        "id": "kLx3PSpnZTIR",
        "outputId": "7fa4ea3a-82cf-47eb-c733-815984b1fde2"
      },
      "execution_count": null,
      "outputs": [
        {
          "output_type": "stream",
          "name": "stdout",
          "text": [
            "Bring 1Kg of tomatoes\n"
          ]
        }
      ]
    },
    {
      "cell_type": "code",
      "source": [
        "a=33\n",
        "b=200\n",
        "if b>a:\n",
        "    print(\"a is greater than b\")"
      ],
      "metadata": {
        "colab": {
          "base_uri": "https://localhost:8080/"
        },
        "id": "j9N8PSZ0cbrl",
        "outputId": "d214671f-0bdc-4b6a-865e-2c464867f27b"
      },
      "execution_count": null,
      "outputs": [
        {
          "output_type": "stream",
          "name": "stdout",
          "text": [
            "a is greater than b\n"
          ]
        }
      ]
    },
    {
      "cell_type": "code",
      "source": [],
      "metadata": {
        "id": "83fUq7REcydi"
      },
      "execution_count": null,
      "outputs": []
    }
  ]
}