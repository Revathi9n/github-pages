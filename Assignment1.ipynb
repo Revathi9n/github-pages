{
  "nbformat": 4,
  "nbformat_minor": 0,
  "metadata": {
    "colab": {
      "provenance": [],
      "authorship_tag": "ABX9TyMJb16YAZr6ReDxnKEKZ99e",
      "include_colab_link": true
    },
    "kernelspec": {
      "name": "python3",
      "display_name": "Python 3"
    },
    "language_info": {
      "name": "python"
    }
  },
  "cells": [
    {
      "cell_type": "markdown",
      "metadata": {
        "id": "view-in-github",
        "colab_type": "text"
      },
      "source": [
        "<a href=\"https://colab.research.google.com/github/Revathi9n/github-pages/blob/main/Assignment1.ipynb\" target=\"_parent\"><img src=\"https://colab.research.google.com/assets/colab-badge.svg\" alt=\"Open In Colab\"/></a>"
      ]
    },
    {
      "cell_type": "code",
      "execution_count": 1,
      "metadata": {
        "id": "2PBnI9DmJMcn"
      },
      "outputs": [],
      "source": [
        "tuple1 = (10,20,30)\n",
        "tuple2 = (40,50,60)\n"
      ]
    },
    {
      "cell_type": "code",
      "source": [
        "t_combine = tuple1 + tuple2\n",
        "print(t_combine)"
      ],
      "metadata": {
        "colab": {
          "base_uri": "https://localhost:8080/"
        },
        "id": "YDONA3ekN5O5",
        "outputId": "6094de5b-259c-4906-b420-6644ac98dd90"
      },
      "execution_count": 6,
      "outputs": [
        {
          "output_type": "stream",
          "name": "stdout",
          "text": [
            "(10, 20, 30, 40, 50, 60)\n"
          ]
        }
      ]
    },
    {
      "cell_type": "code",
      "source": [
        "t_combine = t_combine * 3\n",
        "print(t_combine)"
      ],
      "metadata": {
        "colab": {
          "base_uri": "https://localhost:8080/"
        },
        "id": "4QvASeGPOBP8",
        "outputId": "48a6cb01-8437-42e4-a702-dc7486598dce"
      },
      "execution_count": 7,
      "outputs": [
        {
          "output_type": "stream",
          "name": "stdout",
          "text": [
            "(10, 20, 30, 40, 50, 60, 10, 20, 30, 40, 50, 60, 10, 20, 30, 40, 50, 60)\n"
          ]
        }
      ]
    },
    {
      "cell_type": "code",
      "source": [
        "element_3= t_combine\n",
        "print(element_3)"
      ],
      "metadata": {
        "colab": {
          "base_uri": "https://localhost:8080/"
        },
        "id": "sXn3qK8aOJem",
        "outputId": "7320b25e-caff-4fa2-d969-c6771df8e368"
      },
      "execution_count": 11,
      "outputs": [
        {
          "output_type": "stream",
          "name": "stdout",
          "text": [
            "(10, 20, 30, 40, 50, 60, 10, 20, 30, 40, 50, 60, 10, 20, 30, 40, 50, 60)\n"
          ]
        }
      ]
    },
    {
      "cell_type": "code",
      "source": [
        "first_three= t_combine[0:3]\n",
        "print(first_three)"
      ],
      "metadata": {
        "colab": {
          "base_uri": "https://localhost:8080/"
        },
        "id": "sIpl9LiYOkSw",
        "outputId": "5d4464cc-66fd-4361-cdf2-6031d6202f9b"
      },
      "execution_count": 13,
      "outputs": [
        {
          "output_type": "stream",
          "name": "stdout",
          "text": [
            "(10, 20, 30)\n"
          ]
        }
      ]
    },
    {
      "cell_type": "code",
      "source": [
        "last_three= t_combine[-3:]\n",
        "print(last_three)"
      ],
      "metadata": {
        "colab": {
          "base_uri": "https://localhost:8080/"
        },
        "id": "gNPq4oX5O7Sp",
        "outputId": "9d8e1094-2ef2-4e9d-d862-3a958c4ed116"
      },
      "execution_count": 14,
      "outputs": [
        {
          "output_type": "stream",
          "name": "stdout",
          "text": [
            "(40, 50, 60)\n"
          ]
        }
      ]
    },
    {
      "cell_type": "code",
      "source": [
        "my_list =[(1,2,3),('a','b','c'),'true','flase']\n",
        "print(my_list)"
      ],
      "metadata": {
        "colab": {
          "base_uri": "https://localhost:8080/"
        },
        "id": "qK121z9sPFGY",
        "outputId": "cbe02239-9459-40c8-b8f8-f42a67e84628"
      },
      "execution_count": 17,
      "outputs": [
        {
          "output_type": "stream",
          "name": "stdout",
          "text": [
            "[(1, 2, 3), ('a', 'b', 'c'), 'true', 'flase']\n"
          ]
        }
      ]
    },
    {
      "cell_type": "code",
      "source": [
        "my_list=[(1,2,3),('a','b','c'),'true','false','sparta',123]\n",
        "my_list.extend(['sparta',123,'a','true'])\n",
        "print(my_list)"
      ],
      "metadata": {
        "colab": {
          "base_uri": "https://localhost:8080/"
        },
        "id": "v33oYG0qPitW",
        "outputId": "4becd5f0-ff64-42e4-c116-5078e1620128"
      },
      "execution_count": 22,
      "outputs": [
        {
          "output_type": "stream",
          "name": "stdout",
          "text": [
            "[(1, 2, 3), ('a', 'b', 'c'), 'true', 'false', 'sparta', 123, 'sparta', 123, 'a', 'true']\n"
          ]
        }
      ]
    },
    {
      "cell_type": "code",
      "source": [
        "fruit = {'Fruit':('Apple','Banana','Mango','Guava'),\n",
        "         'Cost':(85,54,120,70)\n",
        "         }"
      ],
      "metadata": {
        "id": "4bt1MwUlQssg"
      },
      "execution_count": 23,
      "outputs": []
    },
    {
      "cell_type": "code",
      "source": [
        "keys=list(fruit.keys())\n",
        "values=list(fruit.values())\n",
        "print('keys:',keys)\n",
        "print('values:',values)"
      ],
      "metadata": {
        "colab": {
          "base_uri": "https://localhost:8080/"
        },
        "id": "UGJAb8HMR2kN",
        "outputId": "506057c3-fdad-48e0-f6d9-c6800ff098fe"
      },
      "execution_count": 25,
      "outputs": [
        {
          "output_type": "stream",
          "name": "stdout",
          "text": [
            "keys: ['Fruit', 'Cost']\n",
            "values: [('Apple', 'Banana', 'Mango', 'Guava'), (85, 54, 120, 70)]\n"
          ]
        }
      ]
    },
    {
      "cell_type": "code",
      "source": [
        "my_list = [(10,'apple','false'),'orange',42]\n"
      ],
      "metadata": {
        "id": "NaLODHyeSp6d"
      },
      "execution_count": 26,
      "outputs": []
    },
    {
      "cell_type": "code",
      "source": [
        "new_tuple=(1,'a','true')\n",
        "my_list.append(new_tuple)\n",
        "print(my_list)"
      ],
      "metadata": {
        "colab": {
          "base_uri": "https://localhost:8080/"
        },
        "id": "wOZeOxmjSUy9",
        "outputId": "3f7dd2ac-c4f0-4161-fba1-9c0e32fa7922"
      },
      "execution_count": 27,
      "outputs": [
        {
          "output_type": "stream",
          "name": "stdout",
          "text": [
            "[(10, 'apple', 'false'), 'orange', 42, (1, 'a', 'true')]\n"
          ]
        }
      ]
    },
    {
      "cell_type": "code",
      "source": [
        "new_list=[*\"sparta\",123+456]\n",
        "my_list.append(new_list)\n",
        "print(my_list)"
      ],
      "metadata": {
        "colab": {
          "base_uri": "https://localhost:8080/"
        },
        "id": "Lh3QxdB7TRlD",
        "outputId": "adeb92f8-6879-42d4-db8e-3706b0768026"
      },
      "execution_count": 28,
      "outputs": [
        {
          "output_type": "stream",
          "name": "stdout",
          "text": [
            "[(10, 'apple', 'false'), 'orange', 42, (1, 'a', 'true'), ['s', 'p', 'a', 'r', 't', 'a', 579]]\n"
          ]
        }
      ]
    },
    {
      "cell_type": "code",
      "source": [],
      "metadata": {
        "id": "B_X7yRVnToT3"
      },
      "execution_count": null,
      "outputs": []
    }
  ]
}