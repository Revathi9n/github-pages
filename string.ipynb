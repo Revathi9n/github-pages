{
  "nbformat": 4,
  "nbformat_minor": 0,
  "metadata": {
    "colab": {
      "provenance": [],
      "authorship_tag": "ABX9TyMPXDSI6wpxc02ULRCDOVQF",
      "include_colab_link": true
    },
    "kernelspec": {
      "name": "python3",
      "display_name": "Python 3"
    },
    "language_info": {
      "name": "python"
    }
  },
  "cells": [
    {
      "cell_type": "markdown",
      "metadata": {
        "id": "view-in-github",
        "colab_type": "text"
      },
      "source": [
        "<a href=\"https://colab.research.google.com/github/Revathi9n/github-pages/blob/main/string.ipynb\" target=\"_parent\"><img src=\"https://colab.research.google.com/assets/colab-badge.svg\" alt=\"Open In Colab\"/></a>"
      ]
    },
    {
      "cell_type": "code",
      "execution_count": null,
      "metadata": {
        "colab": {
          "base_uri": "https://localhost:8080/"
        },
        "id": "hn54qyTPROqe",
        "outputId": "1d0052c2-b924-47f6-cd72-c20172b38a8d"
      },
      "outputs": [
        {
          "output_type": "stream",
          "name": "stdout",
          "text": [
            "1a2b345"
          ]
        }
      ],
      "source": [
        "numbers = [1,'a',2,'b',3,4,5]\n",
        "for num in numbers:\n",
        "    print(num,end='')\n",
        "#print (numbers)\n",
        "\n"
      ]
    },
    {
      "cell_type": "code",
      "source": [
        "'datas'"
      ],
      "metadata": {
        "colab": {
          "base_uri": "https://localhost:8080/",
          "height": 35
        },
        "id": "pG7a2bPMRwhG",
        "outputId": "501bb32c-43a1-4009-db5a-4f3cf24c6d88"
      },
      "execution_count": null,
      "outputs": [
        {
          "output_type": "execute_result",
          "data": {
            "text/plain": [
              "'datas'"
            ],
            "application/vnd.google.colaboratory.intrinsic+json": {
              "type": "string"
            }
          },
          "metadata": {},
          "execution_count": 2
        }
      ]
    },
    {
      "cell_type": "code",
      "source": [
        "for i in \"datas\":\n",
        "    print(i+\"*\",end=\",\")"
      ],
      "metadata": {
        "colab": {
          "base_uri": "https://localhost:8080/"
        },
        "id": "ajJova46R8Ss",
        "outputId": "53adb1c4-c6be-491a-ca1b-b1186e4427f7"
      },
      "execution_count": null,
      "outputs": [
        {
          "output_type": "stream",
          "name": "stdout",
          "text": [
            "d*,a*,t*,a*,s*,"
          ]
        }
      ]
    },
    {
      "cell_type": "code",
      "source": [
        "for i in \"20\":\n",
        "    print(i)"
      ],
      "metadata": {
        "colab": {
          "base_uri": "https://localhost:8080/"
        },
        "id": "nhmco3K4R_vo",
        "outputId": "c537dc37-943a-4ba1-e466-db8a7cef92b9"
      },
      "execution_count": null,
      "outputs": [
        {
          "output_type": "stream",
          "name": "stdout",
          "text": [
            "2\n",
            "0\n"
          ]
        }
      ]
    },
    {
      "cell_type": "code",
      "source": [
        "for i in [1,2,3,4,5]:\n",
        "    print(i*10,end=',') #\\n- new line"
      ],
      "metadata": {
        "colab": {
          "base_uri": "https://localhost:8080/"
        },
        "id": "y_c4x23ISEag",
        "outputId": "9c184780-ddb2-42db-c846-d053c2b934f6"
      },
      "execution_count": null,
      "outputs": [
        {
          "output_type": "stream",
          "name": "stdout",
          "text": [
            "10,20,30,40,50,"
          ]
        }
      ]
    },
    {
      "cell_type": "code",
      "source": [
        "for i in [1,2,3,4,5]:\n",
        "    print(i+10,end=',')"
      ],
      "metadata": {
        "colab": {
          "base_uri": "https://localhost:8080/"
        },
        "id": "-xePtgv8SHc6",
        "outputId": "3dfdd084-eeeb-4b2b-a8f2-b9070a7b5110"
      },
      "execution_count": null,
      "outputs": [
        {
          "output_type": "stream",
          "name": "stdout",
          "text": [
            "11,12,13,14,15,"
          ]
        }
      ]
    },
    {
      "cell_type": "code",
      "source": [
        "for i in [1,2,3,4,5]:\n",
        "    print(i*\"*\")  #Pattern programming"
      ],
      "metadata": {
        "colab": {
          "base_uri": "https://localhost:8080/"
        },
        "id": "ZUES-dHFSOLM",
        "outputId": "7b2de07f-e155-4338-a984-f7693b2257d8"
      },
      "execution_count": null,
      "outputs": [
        {
          "output_type": "stream",
          "name": "stdout",
          "text": [
            "*\n",
            "**\n",
            "***\n",
            "****\n",
            "*****\n"
          ]
        }
      ]
    },
    {
      "cell_type": "code",
      "source": [
        "for i in [1,2,3,4,5,6,7,8,9,10]:\n",
        "    print(i*\"2\")"
      ],
      "metadata": {
        "colab": {
          "base_uri": "https://localhost:8080/"
        },
        "id": "iCTooeIiSQgi",
        "outputId": "73951421-6ebd-4300-e73a-9eff9aaad0dd"
      },
      "execution_count": null,
      "outputs": [
        {
          "output_type": "stream",
          "name": "stdout",
          "text": [
            "2\n",
            "22\n",
            "222\n",
            "2222\n",
            "22222\n",
            "222222\n",
            "2222222\n",
            "22222222\n",
            "222222222\n",
            "2222222222\n"
          ]
        }
      ]
    },
    {
      "cell_type": "code",
      "source": [
        "for i in [5,4,3,2,1]:\n",
        "    print(i*\"*\")"
      ],
      "metadata": {
        "colab": {
          "base_uri": "https://localhost:8080/"
        },
        "id": "atZKJTdESTUm",
        "outputId": "48d9638c-25d9-4b07-b20a-ca5d4273aea1"
      },
      "execution_count": null,
      "outputs": [
        {
          "output_type": "stream",
          "name": "stdout",
          "text": [
            "*****\n",
            "****\n",
            "***\n",
            "**\n",
            "*\n"
          ]
        }
      ]
    },
    {
      "cell_type": "code",
      "source": [
        "for i in range(0,10):\n",
        "    print(i,end=',')"
      ],
      "metadata": {
        "colab": {
          "base_uri": "https://localhost:8080/"
        },
        "id": "ArZYAHreSVpl",
        "outputId": "d8103fb7-dc89-4c47-e9d8-c7abc63380df"
      },
      "execution_count": null,
      "outputs": [
        {
          "output_type": "stream",
          "name": "stdout",
          "text": [
            "0,1,2,3,4,5,6,7,8,9,"
          ]
        }
      ]
    },
    {
      "cell_type": "code",
      "source": [
        "for i in range(0,10,2):  #step size\n",
        "    print(i,end=',')"
      ],
      "metadata": {
        "colab": {
          "base_uri": "https://localhost:8080/"
        },
        "id": "G3fn4bL2SXtN",
        "outputId": "1968dcbb-2fbf-45a8-c2cc-7cc64fd3a4b9"
      },
      "execution_count": null,
      "outputs": [
        {
          "output_type": "stream",
          "name": "stdout",
          "text": [
            "0,2,4,6,8,"
          ]
        }
      ]
    },
    {
      "cell_type": "code",
      "source": [
        "for i in range(0,10,3):\n",
        "    print(i,end=',')"
      ],
      "metadata": {
        "colab": {
          "base_uri": "https://localhost:8080/"
        },
        "id": "JEfYNg5TSbM6",
        "outputId": "5199099a-cd57-497e-8378-30cd5662b097"
      },
      "execution_count": null,
      "outputs": [
        {
          "output_type": "stream",
          "name": "stdout",
          "text": [
            "0,3,6,9,"
          ]
        }
      ]
    },
    {
      "cell_type": "code",
      "source": [
        "for i in range(10,0,-1):\n",
        "    print(i,end=',')"
      ],
      "metadata": {
        "colab": {
          "base_uri": "https://localhost:8080/"
        },
        "id": "JiQJw47kSfPp",
        "outputId": "25bdfbf5-1092-4a8c-86e2-46acde35fda1"
      },
      "execution_count": null,
      "outputs": [
        {
          "output_type": "stream",
          "name": "stdout",
          "text": [
            "10,9,8,7,6,5,4,3,2,1,"
          ]
        }
      ]
    },
    {
      "cell_type": "code",
      "source": [
        "for i in range(0,10):\n",
        "    print(i,end=',')\n",
        "    if i%2==0:\n",
        "        print(i,\"is even number\")\n",
        "    else:\n",
        "        print(i,\"is odd number\")"
      ],
      "metadata": {
        "colab": {
          "base_uri": "https://localhost:8080/"
        },
        "id": "mSpgmuUNSkWl",
        "outputId": "c2ff4316-95cb-46ab-ebb4-a255e0f5657a"
      },
      "execution_count": null,
      "outputs": [
        {
          "output_type": "stream",
          "name": "stdout",
          "text": [
            "0,0 is even number\n",
            "1,1 is odd number\n",
            "2,2 is even number\n",
            "3,3 is odd number\n",
            "4,4 is even number\n",
            "5,5 is odd number\n",
            "6,6 is even number\n",
            "7,7 is odd number\n",
            "8,8 is even number\n",
            "9,9 is odd number\n"
          ]
        }
      ]
    },
    {
      "cell_type": "code",
      "source": [
        "for i in \"DATA12345\": #print only DATA\n",
        "    if i.isalpha():\n",
        "        print(i,end='')"
      ],
      "metadata": {
        "colab": {
          "base_uri": "https://localhost:8080/"
        },
        "id": "lqgnH8anSpFg",
        "outputId": "fe111c44-73e6-410b-8498-f35ba1694932"
      },
      "execution_count": null,
      "outputs": [
        {
          "output_type": "stream",
          "name": "stdout",
          "text": [
            "DATA"
          ]
        }
      ]
    },
    {
      "cell_type": "code",
      "source": [
        "for i in \"DATA12345\": #print only DATA\n",
        "    if i.isnumeric():\n",
        "        print(i,end='')"
      ],
      "metadata": {
        "colab": {
          "base_uri": "https://localhost:8080/"
        },
        "id": "LfEJzXVnSs3Z",
        "outputId": "32bc3aef-b211-4d12-b449-2db662778736"
      },
      "execution_count": null,
      "outputs": [
        {
          "output_type": "stream",
          "name": "stdout",
          "text": [
            "12345"
          ]
        }
      ]
    },
    {
      "cell_type": "code",
      "source": [
        "for i in \"DATA12345\": #print only DATA\n",
        "    if i.isalnum():\n",
        "        print(i,end='')"
      ],
      "metadata": {
        "colab": {
          "base_uri": "https://localhost:8080/"
        },
        "id": "maQ8RFENSx7t",
        "outputId": "3e95fa8d-b705-475d-b4c3-33c0a4cde74b"
      },
      "execution_count": null,
      "outputs": [
        {
          "output_type": "stream",
          "name": "stdout",
          "text": [
            "DATA12345"
          ]
        }
      ]
    },
    {
      "cell_type": "code",
      "source": [
        "for i in \"DATA12345\": #print only DATA\n",
        "    if i.isnumeric()==False:\n",
        "        print(i,end='')"
      ],
      "metadata": {
        "id": "ps6eaX_KS0Ng",
        "outputId": "654f6a8f-7274-4d4e-ee85-09489ec5e4e4",
        "colab": {
          "base_uri": "https://localhost:8080/"
        }
      },
      "execution_count": null,
      "outputs": [
        {
          "output_type": "stream",
          "name": "stdout",
          "text": [
            "DATA"
          ]
        }
      ]
    },
    {
      "cell_type": "code",
      "source": [],
      "metadata": {
        "id": "rh13RvcZS2y3"
      },
      "execution_count": null,
      "outputs": []
    }
  ]
}