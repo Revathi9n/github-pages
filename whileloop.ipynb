{
  "nbformat": 4,
  "nbformat_minor": 0,
  "metadata": {
    "colab": {
      "provenance": [],
      "authorship_tag": "ABX9TyPggyQCI4L/weO3r8vlvbuw",
      "include_colab_link": true
    },
    "kernelspec": {
      "name": "python3",
      "display_name": "Python 3"
    },
    "language_info": {
      "name": "python"
    }
  },
  "cells": [
    {
      "cell_type": "markdown",
      "metadata": {
        "id": "view-in-github",
        "colab_type": "text"
      },
      "source": [
        "<a href=\"https://colab.research.google.com/github/Revathi9n/github-pages/blob/main/whileloop.ipynb\" target=\"_parent\"><img src=\"https://colab.research.google.com/assets/colab-badge.svg\" alt=\"Open In Colab\"/></a>"
      ]
    },
    {
      "cell_type": "code",
      "execution_count": null,
      "metadata": {
        "colab": {
          "base_uri": "https://localhost:8080/"
        },
        "id": "g8s3nnZLgCrp",
        "outputId": "25d7b37c-142f-4211-9db7-591b9fade53a"
      },
      "outputs": [
        {
          "output_type": "stream",
          "name": "stdout",
          "text": [
            "1\n",
            "2\n",
            "3\n",
            "4\n",
            "5\n"
          ]
        }
      ],
      "source": [
        "count = 1\n",
        "while count <=5:    #condition\n",
        "  print(count)\n",
        "  count+=1     #1,2,3,4,,5"
      ]
    },
    {
      "cell_type": "code",
      "source": [
        "count =0\n",
        "while count <=10:\n",
        "  print(count)\n",
        "  count+=2"
      ],
      "metadata": {
        "colab": {
          "base_uri": "https://localhost:8080/"
        },
        "id": "UEigekORgOD7",
        "outputId": "bd7cf3db-9e85-4489-a19c-bec03bb41bb7"
      },
      "execution_count": null,
      "outputs": [
        {
          "output_type": "stream",
          "name": "stdout",
          "text": [
            "0\n",
            "2\n",
            "4\n",
            "6\n",
            "8\n",
            "10\n"
          ]
        }
      ]
    },
    {
      "cell_type": "code",
      "source": [
        "count=10\n",
        "while count <=20:\n",
        "  print(count)\n",
        "  count+=1"
      ],
      "metadata": {
        "colab": {
          "base_uri": "https://localhost:8080/"
        },
        "id": "BlBWWNaGgeJg",
        "outputId": "0c1d90a4-a755-451a-8ecb-a70515aaa1ed"
      },
      "execution_count": null,
      "outputs": [
        {
          "output_type": "stream",
          "name": "stdout",
          "text": [
            "10\n",
            "11\n",
            "12\n",
            "13\n",
            "14\n",
            "15\n",
            "16\n",
            "17\n",
            "18\n",
            "19\n",
            "20\n"
          ]
        }
      ]
    },
    {
      "cell_type": "code",
      "source": [
        "count=15\n",
        "while count<=30:\n",
        "  print(count)\n",
        "  count+=2\n"
      ],
      "metadata": {
        "colab": {
          "base_uri": "https://localhost:8080/"
        },
        "id": "1wAoqx79g6jH",
        "outputId": "1016f681-eb9f-4234-f3bc-4650d008b444"
      },
      "execution_count": null,
      "outputs": [
        {
          "output_type": "stream",
          "name": "stdout",
          "text": [
            "15\n",
            "17\n",
            "19\n",
            "21\n",
            "23\n",
            "25\n",
            "27\n",
            "29\n"
          ]
        }
      ]
    },
    {
      "cell_type": "code",
      "source": [
        "count = 0\n",
        "while count <=100:\n",
        "  print(count)\n",
        "  count+=2"
      ],
      "metadata": {
        "id": "Rov5iIRJhOYd"
      },
      "execution_count": null,
      "outputs": []
    },
    {
      "cell_type": "code",
      "source": [
        "x=2\n",
        "counter=1\n",
        "\n",
        "while x>5:\n",
        "  print(\"interation\",counter,x)\n",
        "  counter=counter+1\n",
        "  x=x+1\n"
      ],
      "metadata": {
        "id": "OU_5G5Npho3f"
      },
      "execution_count": null,
      "outputs": []
    },
    {
      "cell_type": "code",
      "source": [
        "x=1\n",
        "while x<6:\n",
        "  print((5-x)*\"\"+x*\"*\"+(6-x)*\"\")\n",
        "  x+=1"
      ],
      "metadata": {
        "colab": {
          "base_uri": "https://localhost:8080/"
        },
        "id": "miGeGXYghX_w",
        "outputId": "5765b29c-6130-4906-8832-b555cd6f7e5b"
      },
      "execution_count": null,
      "outputs": [
        {
          "output_type": "stream",
          "name": "stdout",
          "text": [
            "*\n",
            "**\n",
            "***\n",
            "****\n",
            "*****\n"
          ]
        }
      ]
    },
    {
      "cell_type": "code",
      "source": [
        "a=1\n",
        "while a<=10:\n",
        "  if(a%2==0):\n",
        "    print(a,\"is odd number\")\n",
        "  else:\n",
        "    print(a,\"is even number\")"
      ],
      "metadata": {
        "collapsed": true,
        "id": "e4nJOzBQjDBB"
      },
      "execution_count": null,
      "outputs": []
    },
    {
      "cell_type": "code",
      "source": [
        "for i in range(1,100):\n",
        "  if i == 10:\n",
        "    print(i)\n",
        "    break\n",
        "    #print(number)"
      ],
      "metadata": {
        "colab": {
          "base_uri": "https://localhost:8080/"
        },
        "id": "-4fOeU1XjjXj",
        "outputId": "910566df-a667-4490-857e-c02855e4a912"
      },
      "execution_count": null,
      "outputs": [
        {
          "output_type": "stream",
          "name": "stdout",
          "text": [
            "10\n"
          ]
        }
      ]
    },
    {
      "cell_type": "code",
      "source": [
        "for number in range(1,100):\n",
        "  if number == 10:\n",
        "    break\n",
        "    print(number)\n"
      ],
      "metadata": {
        "id": "Lq9XKY3MkGiy"
      },
      "execution_count": null,
      "outputs": []
    },
    {
      "cell_type": "code",
      "source": [
        "for number in range(1,100):\n",
        "   print(number)\n",
        "   if number == 10:\n",
        "    break"
      ],
      "metadata": {
        "colab": {
          "base_uri": "https://localhost:8080/"
        },
        "id": "XnrM8cwAkcs3",
        "outputId": "8c718f0d-b814-4f39-9c6f-b22db3a05d66"
      },
      "execution_count": null,
      "outputs": [
        {
          "output_type": "stream",
          "name": "stdout",
          "text": [
            "1\n",
            "2\n",
            "3\n",
            "4\n",
            "5\n",
            "6\n",
            "7\n",
            "8\n",
            "9\n",
            "10\n"
          ]
        }
      ]
    },
    {
      "cell_type": "code",
      "source": [
        "for i in range(0,10):\n",
        "  if i==5:\n",
        "    continue\n",
        "  print(i,end=\",\")"
      ],
      "metadata": {
        "colab": {
          "base_uri": "https://localhost:8080/"
        },
        "id": "KcgtUDiTkw__",
        "outputId": "cf3b0731-e1d9-4054-f857-31dfe30293d7"
      },
      "execution_count": null,
      "outputs": [
        {
          "output_type": "stream",
          "name": "stdout",
          "text": [
            "0,1,2,3,4,6,7,8,9,"
          ]
        }
      ]
    },
    {
      "cell_type": "code",
      "source": [
        "for i in range(0,10):\n",
        "  if i==6:\n",
        "    continue\n",
        "  print(i,end=\",\")"
      ],
      "metadata": {
        "colab": {
          "base_uri": "https://localhost:8080/"
        },
        "id": "uLJq3oWxmVSK",
        "outputId": "57ffe391-9eb2-4f7b-a940-f5576f519f30"
      },
      "execution_count": null,
      "outputs": [
        {
          "output_type": "stream",
          "name": "stdout",
          "text": [
            "0,1,2,3,4,5,7,8,9,"
          ]
        }
      ]
    },
    {
      "cell_type": "code",
      "source": [
        "for number in range(10):\n",
        "  if number % 2 ==1:\n",
        "    continue\n",
        "  print(number,end=\"\\t\")"
      ],
      "metadata": {
        "colab": {
          "base_uri": "https://localhost:8080/"
        },
        "id": "UI_igqcQmZmu",
        "outputId": "23260ed6-7bc3-4ad3-b96b-6de68df1e00b"
      },
      "execution_count": null,
      "outputs": [
        {
          "output_type": "stream",
          "name": "stdout",
          "text": [
            "0\t2\t4\t6\t8\t"
          ]
        }
      ]
    },
    {
      "cell_type": "code",
      "source": [
        "for number in range(10):\n",
        "  if number % 2 ==0:\n",
        "    continue\n",
        "  print(number,end=\"\\t\")"
      ],
      "metadata": {
        "colab": {
          "base_uri": "https://localhost:8080/"
        },
        "id": "MYWNAH_YnL8l",
        "outputId": "258551eb-bcaf-4764-a376-c414717aa983"
      },
      "execution_count": null,
      "outputs": [
        {
          "output_type": "stream",
          "name": "stdout",
          "text": [
            "1\t3\t5\t7\t9\t"
          ]
        }
      ]
    },
    {
      "cell_type": "code",
      "source": [
        "for i in range(0,10):\n",
        "  if i<5:\n",
        "    continue\n",
        "    print(i,end=\",\")\n",
        "  else:\n",
        "    print(i,end=\",\")\n"
      ],
      "metadata": {
        "colab": {
          "base_uri": "https://localhost:8080/"
        },
        "id": "t1tsNwT4nN-I",
        "outputId": "194765ca-e513-4277-c068-867e359987c7"
      },
      "execution_count": null,
      "outputs": [
        {
          "output_type": "stream",
          "name": "stdout",
          "text": [
            "5,6,7,8,9,"
          ]
        }
      ]
    },
    {
      "cell_type": "code",
      "source": [
        "for i in range(1,6):\n",
        "  for j in range(1,6):\n",
        "    print([i,j],end=',')"
      ],
      "metadata": {
        "colab": {
          "base_uri": "https://localhost:8080/"
        },
        "id": "0kQY7_77oB5w",
        "outputId": "0010bb87-88b6-4567-93e9-06b6b9d04782"
      },
      "execution_count": null,
      "outputs": [
        {
          "output_type": "stream",
          "name": "stdout",
          "text": [
            "[1, 1],[1, 2],[1, 3],[1, 4],[1, 5],[2, 1],[2, 2],[2, 3],[2, 4],[2, 5],[3, 1],[3, 2],[3, 3],[3, 4],[3, 5],[4, 1],[4, 2],[4, 3],[4, 4],[4, 5],[5, 1],[5, 2],[5, 3],[5, 4],[5, 5],"
          ]
        }
      ]
    },
    {
      "cell_type": "code",
      "source": [
        "for i in range(1,6):\n",
        "  for j in range(1,6):\n",
        "    print(i,j)\n",
        "    if j==3:\n",
        "      break"
      ],
      "metadata": {
        "colab": {
          "base_uri": "https://localhost:8080/"
        },
        "id": "bKEyezabowF-",
        "outputId": "0cd2d0f9-9390-4183-8757-868e9a805bb4"
      },
      "execution_count": null,
      "outputs": [
        {
          "output_type": "stream",
          "name": "stdout",
          "text": [
            "1 1\n",
            "1 2\n",
            "1 3\n",
            "2 1\n",
            "2 2\n",
            "2 3\n",
            "3 1\n",
            "3 2\n",
            "3 3\n",
            "4 1\n",
            "4 2\n",
            "4 3\n",
            "5 1\n",
            "5 2\n",
            "5 3\n"
          ]
        }
      ]
    },
    {
      "cell_type": "code",
      "source": [
        "for i in range(1,6):\n",
        "  for j in range(1,6):\n",
        "    if j==3:\n",
        "       print(i,j)\n",
        "       break"
      ],
      "metadata": {
        "colab": {
          "base_uri": "https://localhost:8080/"
        },
        "id": "_ZXSVSNZpfUD",
        "outputId": "5922f288-757a-4835-bcf5-f421f01144d5"
      },
      "execution_count": null,
      "outputs": [
        {
          "output_type": "stream",
          "name": "stdout",
          "text": [
            "1 3\n",
            "2 3\n",
            "3 3\n",
            "4 3\n",
            "5 3\n"
          ]
        }
      ]
    },
    {
      "cell_type": "code",
      "source": [
        "#Nested for loops:\n",
        "\n",
        "for i in range(1,6):\n",
        "  for j in range(1,6):\n",
        "    print(i,j,end=',')\n"
      ],
      "metadata": {
        "id": "Wny9oCFNp8fT",
        "colab": {
          "base_uri": "https://localhost:8080/"
        },
        "outputId": "bb255008-5594-4a70-f56b-17a39928a7f8"
      },
      "execution_count": 11,
      "outputs": [
        {
          "output_type": "stream",
          "name": "stdout",
          "text": [
            "1 1,1 2,1 3,1 4,1 5,2 1,2 2,2 3,2 4,2 5,3 1,3 2,3 3,3 4,3 5,4 1,4 2,4 3,4 4,4 5,5 1,5 2,5 3,5 4,5 5,"
          ]
        }
      ]
    },
    {
      "cell_type": "code",
      "source": [
        "for i in range(1,6):\n",
        "  for j in range(i):\n",
        "    print(i,end=' ')"
      ],
      "metadata": {
        "colab": {
          "base_uri": "https://localhost:8080/"
        },
        "id": "3y2q795eXVcy",
        "outputId": "124b9056-13d4-40f2-d128-8055f311f285"
      },
      "execution_count": 10,
      "outputs": [
        {
          "output_type": "stream",
          "name": "stdout",
          "text": [
            "1 2 2 3 3 3 4 4 4 4 5 5 5 5 5 "
          ]
        }
      ]
    },
    {
      "cell_type": "code",
      "source": [
        "for i in range(1,6):\n",
        "  print(i)\n",
        "  for j in range(i):\n",
        "    print(i,end=\" \")"
      ],
      "metadata": {
        "colab": {
          "base_uri": "https://localhost:8080/"
        },
        "id": "ZPRVkH1CX0_R",
        "outputId": "2e9cd545-62f3-4723-b1b9-0792b0945981"
      },
      "execution_count": 9,
      "outputs": [
        {
          "output_type": "stream",
          "name": "stdout",
          "text": [
            "1\n",
            "1 2\n",
            "2 2 3\n",
            "3 3 3 4\n",
            "4 4 4 4 5\n",
            "5 5 5 5 5 "
          ]
        }
      ]
    },
    {
      "cell_type": "code",
      "source": [
        "#Pattern Printing\n",
        "for i in range(1,6):\n",
        "  for j in range(i):\n",
        "    print(i,end=' ')\n",
        "  print()"
      ],
      "metadata": {
        "colab": {
          "base_uri": "https://localhost:8080/"
        },
        "id": "Oa5lFK58Ygvs",
        "outputId": "e6303f5e-6a68-46a6-9086-3d678c4ccf20"
      },
      "execution_count": 6,
      "outputs": [
        {
          "output_type": "stream",
          "name": "stdout",
          "text": [
            "1 \n",
            "2 2 \n",
            "3 3 3 \n",
            "4 4 4 4 \n",
            "5 5 5 5 5 \n"
          ]
        }
      ]
    },
    {
      "cell_type": "code",
      "source": [
        "for i in range(1,6):\n",
        "  for j in range(1,i+1):\n",
        "    print(i,end=' ')\n",
        "  print(\" \")"
      ],
      "metadata": {
        "colab": {
          "base_uri": "https://localhost:8080/"
        },
        "id": "J8IJLP67ZL-D",
        "outputId": "7efcbdab-21d0-4154-cddb-e678d61d33fe"
      },
      "execution_count": 14,
      "outputs": [
        {
          "output_type": "stream",
          "name": "stdout",
          "text": [
            "1  \n",
            "2 2  \n",
            "3 3 3  \n",
            "4 4 4 4  \n",
            "5 5 5 5 5  \n"
          ]
        }
      ]
    },
    {
      "cell_type": "code",
      "source": [
        "for i in range(1,5):\n",
        "  print(\" \"*(10-i), end=\" \")\n",
        "  for j in range(1,i+1):\n",
        "    print(i,end=' ')\n",
        "  print()"
      ],
      "metadata": {
        "colab": {
          "base_uri": "https://localhost:8080/"
        },
        "id": "EIv9qTptZvVL",
        "outputId": "0de42cd1-5267-4c65-820b-ba284a557ded"
      },
      "execution_count": 15,
      "outputs": [
        {
          "output_type": "stream",
          "name": "stdout",
          "text": [
            "          1 \n",
            "         2 2 \n",
            "        3 3 3 \n",
            "       4 4 4 4 \n"
          ]
        }
      ]
    },
    {
      "cell_type": "code",
      "source": [
        "for i in range(1,5):\n",
        "  for j in range(1,i+1):\n",
        "    print(j,end=\" \")\n",
        "  print()"
      ],
      "metadata": {
        "colab": {
          "base_uri": "https://localhost:8080/"
        },
        "id": "T_56fJyra05S",
        "outputId": "3c148374-8b47-41ef-b244-f993ff8a200a"
      },
      "execution_count": 17,
      "outputs": [
        {
          "output_type": "stream",
          "name": "stdout",
          "text": [
            "1 \n",
            "1 2 \n",
            "1 2 3 \n",
            "1 2 3 4 \n"
          ]
        }
      ]
    },
    {
      "cell_type": "code",
      "source": [
        "#Functions\n",
        "\n",
        "def greet():\n",
        "  print(\"Hello, world!\")\n",
        "greet()"
      ],
      "metadata": {
        "colab": {
          "base_uri": "https://localhost:8080/"
        },
        "id": "8M3TLbhXb37p",
        "outputId": "a3076160-95c2-4be4-91c6-5fa2e4c39d84"
      },
      "execution_count": 18,
      "outputs": [
        {
          "output_type": "stream",
          "name": "stdout",
          "text": [
            "Hello, world!\n"
          ]
        }
      ]
    },
    {
      "cell_type": "code",
      "source": [
        "greet()"
      ],
      "metadata": {
        "colab": {
          "base_uri": "https://localhost:8080/"
        },
        "id": "RZjlYY6scX7n",
        "outputId": "7f6d033d-5d39-4151-c6ab-041c65525d83"
      },
      "execution_count": 19,
      "outputs": [
        {
          "output_type": "stream",
          "name": "stdout",
          "text": [
            "Hello, world!\n"
          ]
        }
      ]
    },
    {
      "cell_type": "code",
      "source": [
        "def my_name():\n",
        "  print(\"Revathi\")\n",
        "my_name()"
      ],
      "metadata": {
        "colab": {
          "base_uri": "https://localhost:8080/"
        },
        "id": "xqaXQD-GcZ-H",
        "outputId": "cce7efef-449c-49cc-e164-41dab4b19f0d"
      },
      "execution_count": 22,
      "outputs": [
        {
          "output_type": "stream",
          "name": "stdout",
          "text": [
            "Revathi\n"
          ]
        }
      ]
    },
    {
      "cell_type": "code",
      "source": [
        "my_name()"
      ],
      "metadata": {
        "colab": {
          "base_uri": "https://localhost:8080/"
        },
        "id": "fsvvGxDJckY-",
        "outputId": "408c3b76-27c9-45b9-cd6d-152b595846fb"
      },
      "execution_count": 24,
      "outputs": [
        {
          "output_type": "stream",
          "name": "stdout",
          "text": [
            "Revathi\n"
          ]
        }
      ]
    },
    {
      "cell_type": "code",
      "source": [
        "#Function Parameters and Arguments\n",
        "#Two types of functions:\n",
        "#1.User defined function   2, Built in function\n",
        "\n",
        "\n",
        "def greet(arg):\n",
        "  print(f\"Good Morning, {arg}!\")\n",
        "greet(\"Revathi\")"
      ],
      "metadata": {
        "colab": {
          "base_uri": "https://localhost:8080/"
        },
        "id": "-JFF7A_hdA8p",
        "outputId": "b70c0289-e6e8-4da2-f916-c133306b8de4"
      },
      "execution_count": 27,
      "outputs": [
        {
          "output_type": "stream",
          "name": "stdout",
          "text": [
            "Good Morning, Revathi!\n"
          ]
        }
      ]
    },
    {
      "cell_type": "code",
      "source": [
        "def multiply(a, b,):\n",
        "  return a*b\n",
        "\n",
        "result= multiply(3,5)\n",
        "print(result)"
      ],
      "metadata": {
        "colab": {
          "base_uri": "https://localhost:8080/"
        },
        "id": "dPHcZtw0diXb",
        "outputId": "cdbe89d1-31d2-4721-ce0e-3b846a638e30"
      },
      "execution_count": 33,
      "outputs": [
        {
          "output_type": "stream",
          "name": "stdout",
          "text": [
            "15\n"
          ]
        }
      ]
    },
    {
      "cell_type": "code",
      "source": [
        "def addition(a,b):\n",
        "  return a+b\n",
        "result=addition(2,3)\n",
        "print(result)"
      ],
      "metadata": {
        "colab": {
          "base_uri": "https://localhost:8080/"
        },
        "id": "3Q1gkF8wd-c0",
        "outputId": "58b4a2f4-a989-4950-d854-ce2f2b855f2f"
      },
      "execution_count": 34,
      "outputs": [
        {
          "output_type": "stream",
          "name": "stdout",
          "text": [
            "5\n"
          ]
        }
      ]
    },
    {
      "cell_type": "code",
      "source": [
        "def substraction(a,b):\n",
        "  return a-b\n",
        "result=substraction(5,2)\n",
        "print(result)"
      ],
      "metadata": {
        "colab": {
          "base_uri": "https://localhost:8080/"
        },
        "id": "SXNquegIeW0A",
        "outputId": "e14a5eec-ce67-45d8-a698-e4c26f25063a"
      },
      "execution_count": 35,
      "outputs": [
        {
          "output_type": "stream",
          "name": "stdout",
          "text": [
            "3\n"
          ]
        }
      ]
    },
    {
      "cell_type": "code",
      "source": [
        "def division(a,b):\n",
        "  return a/b\n",
        "result=division(10,2)\n",
        "print(result)"
      ],
      "metadata": {
        "colab": {
          "base_uri": "https://localhost:8080/"
        },
        "id": "MipyL7TMeaFM",
        "outputId": "ef930fd4-fd96-4031-f2c1-aa0426be056a"
      },
      "execution_count": 37,
      "outputs": [
        {
          "output_type": "stream",
          "name": "stdout",
          "text": [
            "5.0\n"
          ]
        }
      ]
    },
    {
      "cell_type": "code",
      "source": [],
      "metadata": {
        "id": "3NaZ2YIyeiwq"
      },
      "execution_count": null,
      "outputs": []
    }
  ]
}